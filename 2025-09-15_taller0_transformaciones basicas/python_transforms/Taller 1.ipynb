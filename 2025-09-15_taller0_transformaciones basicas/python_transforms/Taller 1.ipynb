{
 "cells": [
  {
   "cell_type": "markdown",
   "id": "060a5ade-1c70-4d28-8d5d-2ef9a5724cce",
   "metadata": {},
   "source": [
    "**Importamos las librerias**"
   ]
  },
  {
   "cell_type": "code",
   "execution_count": 4,
   "id": "4081bf92-88f8-4471-8fdb-df39414c0897",
   "metadata": {},
   "outputs": [],
   "source": [
    "import numpy as np\n",
    "import matplotlib.pyplot as plt\n",
    "import imageio"
   ]
  },
  {
   "cell_type": "markdown",
   "id": "6b53f014-72b1-4976-a01f-fa32daff271f",
   "metadata": {},
   "source": [
    "**Definimos la figura**"
   ]
  },
  {
   "cell_type": "code",
   "execution_count": 9,
   "id": "b67de08d-1371-4db0-90de-5047b3eee472",
   "metadata": {},
   "outputs": [],
   "source": [
    "# Define a simple 2D shape: a square centered at origin\n",
    "square = np.array([[-0.5, -0.5],\n",
    "                  [ 0.5, -0.5],\n",
    "                  [ 0.5,  0.5],\n",
    "                  [-0.5,  0.5],\n",
    "                  [-0.5, -0.5]])  # close the loop"
   ]
  },
  {
   "cell_type": "markdown",
   "id": "5838a467-24c0-4113-b733-85121a149587",
   "metadata": {},
   "source": [
    "**Definimos cada una de las matrices de transformacion 2D**"
   ]
  },
  {
   "cell_type": "code",
   "execution_count": 21,
   "id": "af3513e8-f626-4c0a-a12c-4446a95207d9",
   "metadata": {},
   "outputs": [],
   "source": [
    "# Transformation matrix constructors\n",
    "def translation_matrix(tx, ty):\n",
    "    \"\"\"Return a 3x3 translation matrix.\"\"\"\n",
    "    return np.array([[1, 0, tx],\n",
    "                     [0, 1, ty],\n",
    "                     [0, 0,  1]])\n",
    "\n",
    "def rotation_matrix(theta):\n",
    "    \"\"\"Return a 3x3 rotation matrix (theta in radians).\"\"\"\n",
    "    c, s = np.cos(theta), np.sin(theta)\n",
    "    return np.array([[c, -s, 0],\n",
    "                     [s,  c, 0],\n",
    "                     [0,  0, 1]])\n",
    "\n",
    "def scaling_matrix(sx, sy):\n",
    "    \"\"\"Return a 3x3 scaling matrix.\"\"\"\n",
    "    return np.array([[sx,  0, 0],\n",
    "                     [ 0, sy, 0],\n",
    "                     [ 0,  0, 1]])\n",
    "    # start and end points\n",
    "x0, y0 = 0, 0\n",
    "x1, y1 =  2,  1\n",
    "theta0, theta1 = 0, 360  # deg\n",
    "s0, s1 = 1, 2  # scale\n"
   ]
  },
  {
   "cell_type": "code",
   "execution_count": 35,
   "id": "0a848a70-fa39-4375-a897-8e7f1a85bbb2",
   "metadata": {},
   "outputs": [
    {
     "name": "stderr",
     "output_type": "stream",
     "text": [
      "/tmp/ipykernel_2072/1211174316.py:48: MatplotlibDeprecationWarning: The tostring_rgb function was deprecated in Matplotlib 3.8 and will be removed in 3.10. Use buffer_rgba instead.\n",
      "  image = np.frombuffer(fig.canvas.tostring_rgb(), dtype='uint8')\n"
     ]
    },
    {
     "name": "stdout",
     "output_type": "stream",
     "text": [
      "Animation saved to transform_animation.gif\n"
     ]
    }
   ],
   "source": [
    "# Homogeneous coordinates for the shape\n",
    "homog_square = np.hstack([square, np.ones((square.shape[0], 1))])  # Agregamos una nueva columna para homogenizar\n",
    "\n",
    "# Animation parameters\n",
    "num_frames = 60\n",
    "fps = 20\n",
    "frames = []\n",
    "\n",
    "# Interpolate transformations over time\n",
    "for i in range(num_frames):\n",
    "    t = i / (num_frames - 1)  # normalized time [0,1]\n",
    "\n",
    "    # Define interpolated parameters\n",
    "     # Interpolación de traslación\n",
    "    tx = x0 + (x1 - x0) * t\n",
    "    ty = y0 + (y1 - y0) * t\n",
    "    \n",
    "    # Interpolación de rotación (en radianes)\n",
    "    theta = np.deg2rad(theta0 + (theta1 - theta0) * t)\n",
    "    \n",
    "    # Interpolación de escala\n",
    "    s = s0 + (s1 - s0) * t\n",
    "    \n",
    "\n",
    "    # Build combined transformation: T * R * S\n",
    "    M_trans = translation_matrix(tx, ty)\n",
    "    M_rot = rotation_matrix(theta)\n",
    "    M_scale = scaling_matrix(s, s)\n",
    "    M = M_trans @ M_rot @ M_scale\n",
    "\n",
    "    # Apply transformation\n",
    "    transformed = (M @ homog_shape.T).T[:, :2]# Dado que pusimos los ejes como columnas para multiplicar por izquierda le hacemo sla \n",
    "\n",
    "    # Plot\n",
    "    fig, ax = plt.subplots(figsize=(4, 4))\n",
    "    ax.plot(transformed[:, 0], transformed[:, 1], '-o', lw=2)\n",
    "    ax.set_xlim(-3, 5)\n",
    "    ax.set_ylim(-3, 5)\n",
    "    ax.set_aspect('equal')\n",
    "    ax.set_title(f\"Frame {i+1}/{num_frames}\")\n",
    "    ax.grid(True)\n",
    "    # Show matrix of transformation in each frame\n",
    "    mat_text = np.array2string(M, formatter={'float_kind': lambda x: f\"{x:.2f}\"})\n",
    "    ax.text(0.02, 0.02, mat_text, transform=ax.transAxes, fontsize=8,\n",
    "            verticalalignment='bottom', family='monospace')\n",
    "    # Render to image array\n",
    "    fig.canvas.draw()\n",
    "    image = np.frombuffer(fig.canvas.tostring_rgb(), dtype='uint8')\n",
    "    image = image.reshape(fig.canvas.get_width_height()[::-1] + (3,))\n",
    "    frames.append(image)\n",
    "    plt.close(fig)\n",
    "\n",
    "# Save as animated GIF\n",
    "output_path = 'transform_animation.gif'\n",
    "imageio.mimsave(output_path, frames, fps=fps)\n",
    "print(f\"Animation saved to {output_path}\")\n"
   ]
  },
  {
   "cell_type": "code",
   "execution_count": null,
   "id": "5fda5782-48eb-4b17-b0da-f9f5b7a6cffc",
   "metadata": {},
   "outputs": [],
   "source": []
  },
  {
   "cell_type": "code",
   "execution_count": null,
   "id": "8b030e41-7f36-491c-b649-9dae0f5cf415",
   "metadata": {},
   "outputs": [],
   "source": []
  }
 ],
 "metadata": {
  "kernelspec": {
   "display_name": "Python 3 (ipykernel)",
   "language": "python",
   "name": "python3"
  },
  "language_info": {
   "codemirror_mode": {
    "name": "ipython",
    "version": 3
   },
   "file_extension": ".py",
   "mimetype": "text/x-python",
   "name": "python",
   "nbconvert_exporter": "python",
   "pygments_lexer": "ipython3",
   "version": "3.12.7"
  }
 },
 "nbformat": 4,
 "nbformat_minor": 5
}
